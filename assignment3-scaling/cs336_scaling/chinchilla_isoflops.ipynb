{
 "cells": [
  {
   "cell_type": "code",
   "execution_count": 1,
   "id": "e7409323",
   "metadata": {},
   "outputs": [],
   "source": [
    "import json\n",
    "\n",
    "\n",
    "with open(\"data/isoflops_curves.json\", \"r\") as f:\n",
    "    data = json.load(f)"
   ]
  },
  {
   "cell_type": "code",
   "execution_count": 2,
   "id": "8bb0c577",
   "metadata": {},
   "outputs": [],
   "source": [
    "import pandas as pd\n",
    "\n",
    "\n",
    "df = pd.DataFrame(data)"
   ]
  },
  {
   "cell_type": "code",
   "execution_count": 3,
   "id": "095180a2",
   "metadata": {},
   "outputs": [
    {
     "data": {
      "application/vnd.microsoft.datawrangler.viewer.v0+json": {
       "columns": [
        {
         "name": "index",
         "rawType": "int64",
         "type": "integer"
        },
        {
         "name": "parameters",
         "rawType": "int64",
         "type": "integer"
        },
        {
         "name": "compute_budget",
         "rawType": "float64",
         "type": "float"
        },
        {
         "name": "final_loss",
         "rawType": "float64",
         "type": "float"
        }
       ],
       "ref": "cf80e239-a0fc-4db2-91c5-2ac06e2e4361",
       "rows": [
        [
         "0",
         "49999999",
         "6e+18",
         "7.192784500319437"
        ],
        [
         "1",
         "78730505",
         "6e+18",
         "6.750171320661809"
        ],
        [
         "2",
         "123969849",
         "6e+18",
         "6.406639752150447"
        ],
        [
         "3",
         "195204177",
         "6e+18",
         "6.154368665155925"
        ],
        [
         "4",
         "307370470",
         "6e+18",
         "5.987783393573661"
        ],
        [
         "5",
         "483988649",
         "6e+18",
         "5.903434642394701"
        ],
        [
         "6",
         "762093419",
         "6e+18",
         "5.899930270214304"
        ],
        [
         "7",
         "1200000000",
         "6e+18",
         "5.977918696411691"
        ],
        [
         "8",
         "83333333",
         "1e+19",
         "6.575071254529126"
        ],
        [
         "9",
         "131217508",
         "1e+19",
         "6.220815025174462"
        ],
        [
         "10",
         "206616415",
         "1e+19",
         "5.9530019364135125"
        ],
        [
         "11",
         "325340296",
         "1e+19",
         "5.765618650051031"
        ],
        [
         "12",
         "512284118",
         "1e+19",
         "5.654639707131759"
        ],
        [
         "13",
         "806647749",
         "1e+19",
         "5.617943423092358"
        ],
        [
         "14",
         "1270155698",
         "1e+19",
         "5.655275367192594"
        ],
        [
         "15",
         "2000000000",
         "1e+19",
         "5.768258932728475"
        ],
        [
         "16",
         "249999999",
         "3e+19",
         "5.559968737386354"
        ],
        [
         "17",
         "393652526",
         "3e+19",
         "5.350911535688679"
        ],
        [
         "18",
         "619849246",
         "3e+19",
         "5.207528382521117"
        ],
        [
         "19",
         "976020888",
         "3e+19",
         "5.126776725320434"
        ],
        [
         "20",
         "1536852354",
         "3e+19",
         "5.107176953205009"
        ],
        [
         "21",
         "2419943249",
         "3e+19",
         "5.148789074677523"
        ],
        [
         "22",
         "3810467096",
         "3e+19",
         "5.253228285344907"
        ],
        [
         "23",
         "6000000000",
         "3e+19",
         "5.423720175774838"
        ],
        [
         "24",
         "499999999",
         "6e+19",
         "5.089329704378221"
        ],
        [
         "25",
         "787305053",
         "6e+19",
         "4.947592136723572"
        ],
        [
         "26",
         "1239698493",
         "6e+19",
         "4.861899299140854"
        ],
        [
         "27",
         "1952041776",
         "6e+19",
         "4.830586005050577"
        ],
        [
         "28",
         "3073704708",
         "6e+19",
         "4.853352992802183"
        ],
        [
         "29",
         "4839886498",
         "6e+19",
         "4.931271784413071"
        ],
        [
         "30",
         "7620934193",
         "6e+19",
         "5.0668244033437695"
        ],
        [
         "31",
         "12000000000",
         "6e+19",
         "5.263979278015171"
        ],
        [
         "32",
         "833333333",
         "1e+20",
         "4.806980275158798"
        ],
        [
         "33",
         "1312175088",
         "1e+20",
         "4.705629625958023"
        ],
        [
         "34",
         "2066164155",
         "1e+20",
         "4.6545468112048125"
        ],
        [
         "35",
         "3253402960",
         "1e+20",
         "4.6528929644335255"
        ],
        [
         "36",
         "5122841181",
         "1e+20",
         "4.701076948284828"
        ],
        [
         "37",
         "8066477497",
         "1e+20",
         "4.80077711983122"
        ],
        [
         "38",
         "12701556988",
         "1e+20",
         "4.9549955366411735"
        ],
        [
         "39",
         "20000000000",
         "1e+20",
         "5.168146276198128"
        ],
        [
         "40",
         "249999999",
         "3e+20",
         "5.205881194823879"
        ],
        [
         "41",
         "423453495",
         "3e+20",
         "4.895475889166138"
        ],
        [
         "42",
         "717251449",
         "3e+20",
         "4.657360013937843"
        ],
        [
         "43",
         "1214890532",
         "3e+20",
         "4.48413963602612"
        ],
        [
         "44",
         "2057798568",
         "3e+20",
         "4.370566350456171"
        ],
        [
         "45",
         "3485527984",
         "3e+20",
         "4.313380158267966"
        ],
        [
         "46",
         "5903836027",
         "3e+20",
         "4.311218819265305"
        ],
        [
         "47",
         "10000000000",
         "3e+20",
         "4.364591277621534"
        ],
        [
         "48",
         "499999999",
         "6e+20",
         "4.735242161815744"
        ],
        [
         "49",
         "846906990",
         "6e+20",
         "4.502040337947893"
        ]
       ],
       "shape": {
        "columns": 3,
        "rows": 72
       }
      },
      "text/html": [
       "<div>\n",
       "<style scoped>\n",
       "    .dataframe tbody tr th:only-of-type {\n",
       "        vertical-align: middle;\n",
       "    }\n",
       "\n",
       "    .dataframe tbody tr th {\n",
       "        vertical-align: top;\n",
       "    }\n",
       "\n",
       "    .dataframe thead th {\n",
       "        text-align: right;\n",
       "    }\n",
       "</style>\n",
       "<table border=\"1\" class=\"dataframe\">\n",
       "  <thead>\n",
       "    <tr style=\"text-align: right;\">\n",
       "      <th></th>\n",
       "      <th>parameters</th>\n",
       "      <th>compute_budget</th>\n",
       "      <th>final_loss</th>\n",
       "    </tr>\n",
       "  </thead>\n",
       "  <tbody>\n",
       "    <tr>\n",
       "      <th>0</th>\n",
       "      <td>49999999</td>\n",
       "      <td>6.000000e+18</td>\n",
       "      <td>7.192785</td>\n",
       "    </tr>\n",
       "    <tr>\n",
       "      <th>1</th>\n",
       "      <td>78730505</td>\n",
       "      <td>6.000000e+18</td>\n",
       "      <td>6.750171</td>\n",
       "    </tr>\n",
       "    <tr>\n",
       "      <th>2</th>\n",
       "      <td>123969849</td>\n",
       "      <td>6.000000e+18</td>\n",
       "      <td>6.406640</td>\n",
       "    </tr>\n",
       "    <tr>\n",
       "      <th>3</th>\n",
       "      <td>195204177</td>\n",
       "      <td>6.000000e+18</td>\n",
       "      <td>6.154369</td>\n",
       "    </tr>\n",
       "    <tr>\n",
       "      <th>4</th>\n",
       "      <td>307370470</td>\n",
       "      <td>6.000000e+18</td>\n",
       "      <td>5.987783</td>\n",
       "    </tr>\n",
       "    <tr>\n",
       "      <th>...</th>\n",
       "      <td>...</td>\n",
       "      <td>...</td>\n",
       "      <td>...</td>\n",
       "    </tr>\n",
       "    <tr>\n",
       "      <th>67</th>\n",
       "      <td>12148905329</td>\n",
       "      <td>3.000000e+21</td>\n",
       "      <td>3.773188</td>\n",
       "    </tr>\n",
       "    <tr>\n",
       "      <th>68</th>\n",
       "      <td>20577985689</td>\n",
       "      <td>3.000000e+21</td>\n",
       "      <td>3.776239</td>\n",
       "    </tr>\n",
       "    <tr>\n",
       "      <th>69</th>\n",
       "      <td>34855279842</td>\n",
       "      <td>3.000000e+21</td>\n",
       "      <td>3.816546</td>\n",
       "    </tr>\n",
       "    <tr>\n",
       "      <th>70</th>\n",
       "      <td>59038360277</td>\n",
       "      <td>3.000000e+21</td>\n",
       "      <td>3.895885</td>\n",
       "    </tr>\n",
       "    <tr>\n",
       "      <th>71</th>\n",
       "      <td>100000000000</td>\n",
       "      <td>3.000000e+21</td>\n",
       "      <td>4.017389</td>\n",
       "    </tr>\n",
       "  </tbody>\n",
       "</table>\n",
       "<p>72 rows × 3 columns</p>\n",
       "</div>"
      ],
      "text/plain": [
       "      parameters  compute_budget  final_loss\n",
       "0       49999999    6.000000e+18    7.192785\n",
       "1       78730505    6.000000e+18    6.750171\n",
       "2      123969849    6.000000e+18    6.406640\n",
       "3      195204177    6.000000e+18    6.154369\n",
       "4      307370470    6.000000e+18    5.987783\n",
       "..           ...             ...         ...\n",
       "67   12148905329    3.000000e+21    3.773188\n",
       "68   20577985689    3.000000e+21    3.776239\n",
       "69   34855279842    3.000000e+21    3.816546\n",
       "70   59038360277    3.000000e+21    3.895885\n",
       "71  100000000000    3.000000e+21    4.017389\n",
       "\n",
       "[72 rows x 3 columns]"
      ]
     },
     "execution_count": 3,
     "metadata": {},
     "output_type": "execute_result"
    }
   ],
   "source": [
    "df"
   ]
  },
  {
   "cell_type": "code",
   "execution_count": 4,
   "id": "bd1d0ba2",
   "metadata": {},
   "outputs": [
    {
     "data": {
      "application/vnd.microsoft.datawrangler.viewer.v0+json": {
       "columns": [
        {
         "name": "index",
         "rawType": "int64",
         "type": "integer"
        },
        {
         "name": "parameters",
         "rawType": "int64",
         "type": "integer"
        },
        {
         "name": "compute_budget",
         "rawType": "float64",
         "type": "float"
        },
        {
         "name": "final_loss",
         "rawType": "float64",
         "type": "float"
        }
       ],
       "ref": "8cffbcbf-0d65-4a89-94f0-f5da2daf0d9f",
       "rows": [
        [
         "6",
         "762093419",
         "6e+18",
         "5.899930270214304"
        ],
        [
         "13",
         "806647749",
         "1e+19",
         "5.617943423092358"
        ],
        [
         "20",
         "1536852354",
         "3e+19",
         "5.107176953205009"
        ],
        [
         "27",
         "1952041776",
         "6e+19",
         "4.830586005050577"
        ],
        [
         "35",
         "3253402960",
         "1e+20",
         "4.6528929644335255"
        ],
        [
         "46",
         "5903836027",
         "3e+20",
         "4.311218819265305"
        ],
        [
         "53",
         "6971055968",
         "6e+20",
         "4.121240846441071"
        ],
        [
         "60",
         "6859328563",
         "1e+21",
         "4.002834749948777"
        ],
        [
         "67",
         "12148905329",
         "3e+21",
         "3.773187514504335"
        ]
       ],
       "shape": {
        "columns": 3,
        "rows": 9
       }
      },
      "text/html": [
       "<div>\n",
       "<style scoped>\n",
       "    .dataframe tbody tr th:only-of-type {\n",
       "        vertical-align: middle;\n",
       "    }\n",
       "\n",
       "    .dataframe tbody tr th {\n",
       "        vertical-align: top;\n",
       "    }\n",
       "\n",
       "    .dataframe thead th {\n",
       "        text-align: right;\n",
       "    }\n",
       "</style>\n",
       "<table border=\"1\" class=\"dataframe\">\n",
       "  <thead>\n",
       "    <tr style=\"text-align: right;\">\n",
       "      <th></th>\n",
       "      <th>parameters</th>\n",
       "      <th>compute_budget</th>\n",
       "      <th>final_loss</th>\n",
       "    </tr>\n",
       "  </thead>\n",
       "  <tbody>\n",
       "    <tr>\n",
       "      <th>6</th>\n",
       "      <td>762093419</td>\n",
       "      <td>6.000000e+18</td>\n",
       "      <td>5.899930</td>\n",
       "    </tr>\n",
       "    <tr>\n",
       "      <th>13</th>\n",
       "      <td>806647749</td>\n",
       "      <td>1.000000e+19</td>\n",
       "      <td>5.617943</td>\n",
       "    </tr>\n",
       "    <tr>\n",
       "      <th>20</th>\n",
       "      <td>1536852354</td>\n",
       "      <td>3.000000e+19</td>\n",
       "      <td>5.107177</td>\n",
       "    </tr>\n",
       "    <tr>\n",
       "      <th>27</th>\n",
       "      <td>1952041776</td>\n",
       "      <td>6.000000e+19</td>\n",
       "      <td>4.830586</td>\n",
       "    </tr>\n",
       "    <tr>\n",
       "      <th>35</th>\n",
       "      <td>3253402960</td>\n",
       "      <td>1.000000e+20</td>\n",
       "      <td>4.652893</td>\n",
       "    </tr>\n",
       "    <tr>\n",
       "      <th>46</th>\n",
       "      <td>5903836027</td>\n",
       "      <td>3.000000e+20</td>\n",
       "      <td>4.311219</td>\n",
       "    </tr>\n",
       "    <tr>\n",
       "      <th>53</th>\n",
       "      <td>6971055968</td>\n",
       "      <td>6.000000e+20</td>\n",
       "      <td>4.121241</td>\n",
       "    </tr>\n",
       "    <tr>\n",
       "      <th>60</th>\n",
       "      <td>6859328563</td>\n",
       "      <td>1.000000e+21</td>\n",
       "      <td>4.002835</td>\n",
       "    </tr>\n",
       "    <tr>\n",
       "      <th>67</th>\n",
       "      <td>12148905329</td>\n",
       "      <td>3.000000e+21</td>\n",
       "      <td>3.773188</td>\n",
       "    </tr>\n",
       "  </tbody>\n",
       "</table>\n",
       "</div>"
      ],
      "text/plain": [
       "     parameters  compute_budget  final_loss\n",
       "6     762093419    6.000000e+18    5.899930\n",
       "13    806647749    1.000000e+19    5.617943\n",
       "20   1536852354    3.000000e+19    5.107177\n",
       "27   1952041776    6.000000e+19    4.830586\n",
       "35   3253402960    1.000000e+20    4.652893\n",
       "46   5903836027    3.000000e+20    4.311219\n",
       "53   6971055968    6.000000e+20    4.121241\n",
       "60   6859328563    1.000000e+21    4.002835\n",
       "67  12148905329    3.000000e+21    3.773188"
      ]
     },
     "execution_count": 4,
     "metadata": {},
     "output_type": "execute_result"
    }
   ],
   "source": [
    "n_opt = df.loc[df.groupby(\"compute_budget\")[\"final_loss\"].idxmin()]\n",
    "\n",
    "n_opt"
   ]
  },
  {
   "cell_type": "code",
   "execution_count": 5,
   "id": "a9f1a6f2",
   "metadata": {},
   "outputs": [],
   "source": [
    "from scipy.optimize import curve_fit\n",
    "\n",
    "\n",
    "def func(x, a, b):\n",
    "    return a * x**b\n",
    "\n",
    "\n",
    "popt, pcov = curve_fit(func, n_opt[\"compute_budget\"], n_opt[\"parameters\"])"
   ]
  },
  {
   "cell_type": "code",
   "execution_count": 6,
   "id": "ae0b3e76",
   "metadata": {},
   "outputs": [
    {
     "data": {
      "text/plain": [
       "(array([25.79298341,  0.40381138]),\n",
       " array([[ 1.72273745e+03, -1.37578211e+00],\n",
       "        [-1.37578211e+00,  1.09936121e-03]]))"
      ]
     },
     "execution_count": 6,
     "metadata": {},
     "output_type": "execute_result"
    }
   ],
   "source": [
    "popt, pcov"
   ]
  },
  {
   "cell_type": "code",
   "execution_count": 7,
   "id": "77e7542c",
   "metadata": {},
   "outputs": [
    {
     "data": {
      "text/plain": [
       "<matplotlib.legend.Legend at 0x1309d3380>"
      ]
     },
     "execution_count": 7,
     "metadata": {},
     "output_type": "execute_result"
    },
    {
     "data": {
      "image/png": "[encoded data removed]",
      "text/plain": [
       "<Figure size 640x480 with 1 Axes>"
      ]
     },
     "metadata": {},
     "output_type": "display_data"
    }
   ],
   "source": [
    "import matplotlib.pyplot as plt\n",
    "\n",
    "\n",
    "plt.plot(n_opt[\"compute_budget\"], n_opt[\"parameters\"], \"o\", label=\"data\")\n",
    "plt.plot(\n",
    "    n_opt[\"compute_budget\"],\n",
    "    func(n_opt[\"compute_budget\"], *popt),\n",
    "    label=\"fit: a=%5.3f, b=%5.3f\" % tuple(popt),\n",
    ")\n",
    "plt.xlabel(\"Compute budget (FLOPs)\")\n",
    "plt.ylabel(\"Number of parameters\")\n",
    "plt.legend()"
   ]
  },
  {
   "cell_type": "code",
   "execution_count": 8,
   "id": "4e1755d0",
   "metadata": {},
   "outputs": [
    {
     "data": {
      "text/plain": [
       "np.float64(50.02225491233104)"
      ]
     },
     "execution_count": 8,
     "metadata": {},
     "output_type": "execute_result"
    }
   ],
   "source": [
    "func(10**23, *popt) / 10**9"
   ]
  },
  {
   "cell_type": "code",
   "execution_count": 9,
   "id": "ebb65747",
   "metadata": {},
   "outputs": [
    {
     "data": {
      "text/plain": [
       "np.float64(126.75778531998223)"
      ]
     },
     "execution_count": 9,
     "metadata": {},
     "output_type": "execute_result"
    }
   ],
   "source": [
    "func(10**24, *popt) / 10**9"
   ]
  },
  {
   "cell_type": "code",
   "execution_count": 10,
   "id": "27f7f69b",
   "metadata": {},
   "outputs": [
    {
     "data": {
      "application/vnd.microsoft.datawrangler.viewer.v0+json": {
       "columns": [
        {
         "name": "index",
         "rawType": "int64",
         "type": "integer"
        },
        {
         "name": "parameters",
         "rawType": "int64",
         "type": "integer"
        },
        {
         "name": "compute_budget",
         "rawType": "float64",
         "type": "float"
        },
        {
         "name": "final_loss",
         "rawType": "float64",
         "type": "float"
        },
        {
         "name": "num_tokens",
         "rawType": "float64",
         "type": "float"
        }
       ],
       "ref": "0a3c0f4b-150a-4d25-a2c3-d2fb9ef016a0",
       "rows": [
        [
         "6",
         "762093419",
         "6e+18",
         "5.899930270214304",
         "1312175089.1277542"
        ],
        [
         "13",
         "806647749",
         "1e+19",
         "5.617943423092358",
         "2066164157.4439783"
        ],
        [
         "20",
         "1536852354",
         "3e+19",
         "5.107176953205009",
         "3253402961.5703735"
        ],
        [
         "27",
         "1952041776",
         "6e+19",
         "4.830586005050577",
         "5122841182.472726"
        ],
        [
         "35",
         "3253402960",
         "1e+20",
         "4.6528929644335255",
         "5122841182.472726"
        ],
        [
         "46",
         "5903836027",
         "3e+20",
         "4.311218819265305",
         "8469069901.558091"
        ],
        [
         "53",
         "6971055968",
         "6e+20",
         "4.121240846441071",
         "14345028996.903902"
        ],
        [
         "60",
         "6859328563",
         "1e+21",
         "4.002834749948777",
         "24297810658.27429"
        ],
        [
         "67",
         "12148905329",
         "3e+21",
         "3.773187514504335",
         "41155971378.46459"
        ]
       ],
       "shape": {
        "columns": 4,
        "rows": 9
       }
      },
      "text/html": [
       "<div>\n",
       "<style scoped>\n",
       "    .dataframe tbody tr th:only-of-type {\n",
       "        vertical-align: middle;\n",
       "    }\n",
       "\n",
       "    .dataframe tbody tr th {\n",
       "        vertical-align: top;\n",
       "    }\n",
       "\n",
       "    .dataframe thead th {\n",
       "        text-align: right;\n",
       "    }\n",
       "</style>\n",
       "<table border=\"1\" class=\"dataframe\">\n",
       "  <thead>\n",
       "    <tr style=\"text-align: right;\">\n",
       "      <th></th>\n",
       "      <th>parameters</th>\n",
       "      <th>compute_budget</th>\n",
       "      <th>final_loss</th>\n",
       "      <th>num_tokens</th>\n",
       "    </tr>\n",
       "  </thead>\n",
       "  <tbody>\n",
       "    <tr>\n",
       "      <th>6</th>\n",
       "      <td>762093419</td>\n",
       "      <td>6.000000e+18</td>\n",
       "      <td>5.899930</td>\n",
       "      <td>1.312175e+09</td>\n",
       "    </tr>\n",
       "    <tr>\n",
       "      <th>13</th>\n",
       "      <td>806647749</td>\n",
       "      <td>1.000000e+19</td>\n",
       "      <td>5.617943</td>\n",
       "      <td>2.066164e+09</td>\n",
       "    </tr>\n",
       "    <tr>\n",
       "      <th>20</th>\n",
       "      <td>1536852354</td>\n",
       "      <td>3.000000e+19</td>\n",
       "      <td>5.107177</td>\n",
       "      <td>3.253403e+09</td>\n",
       "    </tr>\n",
       "    <tr>\n",
       "      <th>27</th>\n",
       "      <td>1952041776</td>\n",
       "      <td>6.000000e+19</td>\n",
       "      <td>4.830586</td>\n",
       "      <td>5.122841e+09</td>\n",
       "    </tr>\n",
       "    <tr>\n",
       "      <th>35</th>\n",
       "      <td>3253402960</td>\n",
       "      <td>1.000000e+20</td>\n",
       "      <td>4.652893</td>\n",
       "      <td>5.122841e+09</td>\n",
       "    </tr>\n",
       "    <tr>\n",
       "      <th>46</th>\n",
       "      <td>5903836027</td>\n",
       "      <td>3.000000e+20</td>\n",
       "      <td>4.311219</td>\n",
       "      <td>8.469070e+09</td>\n",
       "    </tr>\n",
       "    <tr>\n",
       "      <th>53</th>\n",
       "      <td>6971055968</td>\n",
       "      <td>6.000000e+20</td>\n",
       "      <td>4.121241</td>\n",
       "      <td>1.434503e+10</td>\n",
       "    </tr>\n",
       "    <tr>\n",
       "      <th>60</th>\n",
       "      <td>6859328563</td>\n",
       "      <td>1.000000e+21</td>\n",
       "      <td>4.002835</td>\n",
       "      <td>2.429781e+10</td>\n",
       "    </tr>\n",
       "    <tr>\n",
       "      <th>67</th>\n",
       "      <td>12148905329</td>\n",
       "      <td>3.000000e+21</td>\n",
       "      <td>3.773188</td>\n",
       "      <td>4.115597e+10</td>\n",
       "    </tr>\n",
       "  </tbody>\n",
       "</table>\n",
       "</div>"
      ],
      "text/plain": [
       "     parameters  compute_budget  final_loss    num_tokens\n",
       "6     762093419    6.000000e+18    5.899930  1.312175e+09\n",
       "13    806647749    1.000000e+19    5.617943  2.066164e+09\n",
       "20   1536852354    3.000000e+19    5.107177  3.253403e+09\n",
       "27   1952041776    6.000000e+19    4.830586  5.122841e+09\n",
       "35   3253402960    1.000000e+20    4.652893  5.122841e+09\n",
       "46   5903836027    3.000000e+20    4.311219  8.469070e+09\n",
       "53   6971055968    6.000000e+20    4.121241  1.434503e+10\n",
       "60   6859328563    1.000000e+21    4.002835  2.429781e+10\n",
       "67  12148905329    3.000000e+21    3.773188  4.115597e+10"
      ]
     },
     "execution_count": 10,
     "metadata": {},
     "output_type": "execute_result"
    }
   ],
   "source": [
    "n_opt[\"num_tokens\"] = n_opt[\"compute_budget\"] / (6 * n_opt[\"parameters\"])\n",
    "\n",
    "n_opt"
   ]
  },
  {
   "cell_type": "code",
   "execution_count": 11,
   "id": "876a6da2",
   "metadata": {},
   "outputs": [
    {
     "data": {
      "text/plain": [
       "(np.float64(0.006461705650299625), np.float64(0.5961886223405963))"
      ]
     },
     "execution_count": 11,
     "metadata": {},
     "output_type": "execute_result"
    }
   ],
   "source": [
    "(1 / (6 * popt[0]), 1 - popt[1])"
   ]
  },
  {
   "cell_type": "code",
   "execution_count": 12,
   "id": "3df25dd0",
   "metadata": {},
   "outputs": [],
   "source": [
    "popt, pcov = curve_fit(func, n_opt[\"compute_budget\"], n_opt[\"num_tokens\"])"
   ]
  },
  {
   "cell_type": "code",
   "execution_count": 13,
   "id": "0e02f8d0",
   "metadata": {},
   "outputs": [
    {
     "data": {
      "text/plain": [
       "array([0.00633759, 0.59677071])"
      ]
     },
     "execution_count": 13,
     "metadata": {},
     "output_type": "execute_result"
    }
   ],
   "source": [
    "popt"
   ]
  },
  {
   "cell_type": "code",
   "execution_count": 14,
   "id": "03fedec4",
   "metadata": {},
   "outputs": [
    {
     "data": {
      "text/plain": [
       "<matplotlib.legend.Legend at 0x130a352b0>"
      ]
     },
     "execution_count": 14,
     "metadata": {},
     "output_type": "execute_result"
    },
    {
     "data": {
      "image/png": "[encoded data removed]",
      "text/plain": [
       "<Figure size 640x480 with 1 Axes>"
      ]
     },
     "metadata": {},
     "output_type": "display_data"
    }
   ],
   "source": [
    "plt.plot(n_opt[\"compute_budget\"], n_opt[\"num_tokens\"], \"o\", label=\"data\")\n",
    "plt.plot(\n",
    "    n_opt[\"compute_budget\"],\n",
    "    func(n_opt[\"compute_budget\"], *popt),\n",
    "    label=\"fit: a=%5.3f, b=%5.3f\" % tuple(popt),\n",
    ")\n",
    "plt.xlabel(\"Compute budget (FLOPs)\")\n",
    "plt.ylabel(\"Number of Tokens\")\n",
    "plt.legend()"
   ]
  },
  {
   "cell_type": "code",
   "execution_count": 15,
   "id": "263184cf",
   "metadata": {},
   "outputs": [
    {
     "data": {
      "text/plain": [
       "np.float64(1.3317448400504712)"
      ]
     },
     "execution_count": 15,
     "metadata": {},
     "output_type": "execute_result"
    }
   ],
   "source": [
    "func(10**24, *popt) / 10**12"
   ]
  },
  {
   "cell_type": "code",
   "execution_count": 16,
   "id": "9ff470dd",
   "metadata": {},
   "outputs": [
    {
     "data": {
      "text/plain": [
       "np.float64(5.26249544195097)"
      ]
     },
     "execution_count": 16,
     "metadata": {},
     "output_type": "execute_result"
    }
   ],
   "source": [
    "func(10**25, *popt) / 10**12"
   ]
  },
  {
   "cell_type": "code",
   "execution_count": null,
   "id": "b0ccbfb0",
   "metadata": {},
   "outputs": [],
   "source": []
  }
 ],
 "metadata": {
  "kernelspec": {
   "display_name": "cs336-scaling",
   "language": "python",
   "name": "python3"
  },
  "language_info": {
   "codemirror_mode": {
    "name": "ipython",
    "version": 3
   },
   "file_extension": ".py",
   "mimetype": "text/x-python",
   "name": "python",
   "nbconvert_exporter": "python",
   "pygments_lexer": "ipython3",
   "version": "3.12.9"
  }
 },
 "nbformat": 4,
 "nbformat_minor": 5
}
